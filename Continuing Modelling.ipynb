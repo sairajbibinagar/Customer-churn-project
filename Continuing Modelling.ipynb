{
 "cells": [
  {
   "cell_type": "code",
   "execution_count": 2,
   "metadata": {},
   "outputs": [
    {
     "name": "stderr",
     "output_type": "stream",
     "text": [
      "C:\\Users\\saira_p\\Anaconda3\\lib\\site-packages\\statsmodels\\compat\\pandas.py:56: FutureWarning: The pandas.core.datetools module is deprecated and will be removed in a future version. Please use the pandas.tseries module instead.\n",
      "  from pandas.core import datetools\n"
     ]
    }
   ],
   "source": [
    "import pandas as pd\n",
    "import numpy as np\n",
    "import matplotlib.pyplot as plt\n",
    "import seaborn as sns\n",
    "\n",
    "import statsmodels.api as sm\n",
    "import pylab as pl\n",
    "\n",
    "#Used for confusion matrix\n",
    "from sklearn import metrics\n",
    "\n",
    "from sklearn.feature_selection import SelectKBest\n",
    "from sklearn.feature_selection import chi2\n",
    "\n",
    "import scipy.stats as stats\n",
    "from scipy.stats import chi2_contingency\n",
    "\n",
    "from sklearn.ensemble import RandomForestClassifier\n",
    "\n",
    "from sklearn.metrics import classification_report\n",
    "\n",
    "from sklearn.ensemble import BaggingClassifier\n",
    "\n",
    "from sklearn.tree import DecisionTreeClassifier\n",
    "\n",
    "from sklearn.ensemble import AdaBoostClassifier\n",
    "\n",
    "from sklearn.ensemble import VotingClassifier\n",
    "\n",
    "from sklearn.linear_model import LogisticRegression\n",
    "\n",
    "from sklearn.svm import SVC"
   ]
  },
  {
   "cell_type": "code",
   "execution_count": 3,
   "metadata": {},
   "outputs": [],
   "source": [
    "df = pd.read_csv('DataForModelling.csv')\n",
    "dfonlysigni = pd.read_csv('OnlySignificantX.csv')"
   ]
  },
  {
   "cell_type": "markdown",
   "metadata": {},
   "source": [
    "Removing the first unknown column from the dataset. Check for yourself for more details"
   ]
  },
  {
   "cell_type": "code",
   "execution_count": 4,
   "metadata": {},
   "outputs": [],
   "source": [
    "df = df.iloc[:, 1:]"
   ]
  },
  {
   "cell_type": "code",
   "execution_count": 5,
   "metadata": {},
   "outputs": [],
   "source": [
    "dfonlysigni = dfonlysigni.iloc[:, 1:]"
   ]
  },
  {
   "cell_type": "code",
   "execution_count": 6,
   "metadata": {},
   "outputs": [
    {
     "data": {
      "text/html": [
       "<div>\n",
       "<style scoped>\n",
       "    .dataframe tbody tr th:only-of-type {\n",
       "        vertical-align: middle;\n",
       "    }\n",
       "\n",
       "    .dataframe tbody tr th {\n",
       "        vertical-align: top;\n",
       "    }\n",
       "\n",
       "    .dataframe thead th {\n",
       "        text-align: right;\n",
       "    }\n",
       "</style>\n",
       "<table border=\"1\" class=\"dataframe\">\n",
       "  <thead>\n",
       "    <tr style=\"text-align: right;\">\n",
       "      <th></th>\n",
       "      <th>customerID</th>\n",
       "      <th>gender</th>\n",
       "      <th>SeniorCitizen</th>\n",
       "      <th>Partner</th>\n",
       "      <th>Dependents</th>\n",
       "      <th>tenure</th>\n",
       "      <th>PhoneService</th>\n",
       "      <th>MultipleLines</th>\n",
       "      <th>InternetService</th>\n",
       "      <th>OnlineSecurity</th>\n",
       "      <th>...</th>\n",
       "      <th>StreamingMovies</th>\n",
       "      <th>Contract</th>\n",
       "      <th>PaperlessBilling</th>\n",
       "      <th>PaymentMethod</th>\n",
       "      <th>MonthlyCharges</th>\n",
       "      <th>TotalCharges</th>\n",
       "      <th>Churn</th>\n",
       "      <th>TotalCharges_Binned</th>\n",
       "      <th>MonthlyCharges_Binned</th>\n",
       "      <th>tenure_Binned</th>\n",
       "    </tr>\n",
       "  </thead>\n",
       "  <tbody>\n",
       "    <tr>\n",
       "      <th>0</th>\n",
       "      <td>7590-VHVEG</td>\n",
       "      <td>1</td>\n",
       "      <td>0</td>\n",
       "      <td>1</td>\n",
       "      <td>0</td>\n",
       "      <td>1</td>\n",
       "      <td>0</td>\n",
       "      <td>2</td>\n",
       "      <td>1</td>\n",
       "      <td>0</td>\n",
       "      <td>...</td>\n",
       "      <td>0</td>\n",
       "      <td>0</td>\n",
       "      <td>1</td>\n",
       "      <td>1</td>\n",
       "      <td>29.85</td>\n",
       "      <td>29.85</td>\n",
       "      <td>0</td>\n",
       "      <td>0</td>\n",
       "      <td>0</td>\n",
       "      <td>0</td>\n",
       "    </tr>\n",
       "    <tr>\n",
       "      <th>1</th>\n",
       "      <td>5575-GNVDE</td>\n",
       "      <td>0</td>\n",
       "      <td>0</td>\n",
       "      <td>0</td>\n",
       "      <td>0</td>\n",
       "      <td>34</td>\n",
       "      <td>1</td>\n",
       "      <td>0</td>\n",
       "      <td>1</td>\n",
       "      <td>1</td>\n",
       "      <td>...</td>\n",
       "      <td>0</td>\n",
       "      <td>1</td>\n",
       "      <td>0</td>\n",
       "      <td>0</td>\n",
       "      <td>56.95</td>\n",
       "      <td>1889.50</td>\n",
       "      <td>0</td>\n",
       "      <td>2</td>\n",
       "      <td>1</td>\n",
       "      <td>2</td>\n",
       "    </tr>\n",
       "    <tr>\n",
       "      <th>2</th>\n",
       "      <td>3668-QPYBK</td>\n",
       "      <td>0</td>\n",
       "      <td>0</td>\n",
       "      <td>0</td>\n",
       "      <td>0</td>\n",
       "      <td>2</td>\n",
       "      <td>1</td>\n",
       "      <td>0</td>\n",
       "      <td>1</td>\n",
       "      <td>1</td>\n",
       "      <td>...</td>\n",
       "      <td>0</td>\n",
       "      <td>0</td>\n",
       "      <td>1</td>\n",
       "      <td>0</td>\n",
       "      <td>53.85</td>\n",
       "      <td>108.15</td>\n",
       "      <td>1</td>\n",
       "      <td>0</td>\n",
       "      <td>1</td>\n",
       "      <td>0</td>\n",
       "    </tr>\n",
       "    <tr>\n",
       "      <th>3</th>\n",
       "      <td>7795-CFOCW</td>\n",
       "      <td>0</td>\n",
       "      <td>0</td>\n",
       "      <td>0</td>\n",
       "      <td>0</td>\n",
       "      <td>45</td>\n",
       "      <td>0</td>\n",
       "      <td>2</td>\n",
       "      <td>1</td>\n",
       "      <td>1</td>\n",
       "      <td>...</td>\n",
       "      <td>0</td>\n",
       "      <td>1</td>\n",
       "      <td>0</td>\n",
       "      <td>2</td>\n",
       "      <td>42.30</td>\n",
       "      <td>1840.75</td>\n",
       "      <td>0</td>\n",
       "      <td>2</td>\n",
       "      <td>1</td>\n",
       "      <td>2</td>\n",
       "    </tr>\n",
       "    <tr>\n",
       "      <th>4</th>\n",
       "      <td>9237-HQITU</td>\n",
       "      <td>1</td>\n",
       "      <td>0</td>\n",
       "      <td>0</td>\n",
       "      <td>0</td>\n",
       "      <td>2</td>\n",
       "      <td>1</td>\n",
       "      <td>0</td>\n",
       "      <td>2</td>\n",
       "      <td>0</td>\n",
       "      <td>...</td>\n",
       "      <td>0</td>\n",
       "      <td>0</td>\n",
       "      <td>1</td>\n",
       "      <td>1</td>\n",
       "      <td>70.70</td>\n",
       "      <td>151.65</td>\n",
       "      <td>1</td>\n",
       "      <td>0</td>\n",
       "      <td>2</td>\n",
       "      <td>0</td>\n",
       "    </tr>\n",
       "  </tbody>\n",
       "</table>\n",
       "<p>5 rows × 24 columns</p>\n",
       "</div>"
      ],
      "text/plain": [
       "   customerID  gender  SeniorCitizen  Partner  Dependents  tenure  \\\n",
       "0  7590-VHVEG       1              0        1           0       1   \n",
       "1  5575-GNVDE       0              0        0           0      34   \n",
       "2  3668-QPYBK       0              0        0           0       2   \n",
       "3  7795-CFOCW       0              0        0           0      45   \n",
       "4  9237-HQITU       1              0        0           0       2   \n",
       "\n",
       "   PhoneService  MultipleLines  InternetService  OnlineSecurity  \\\n",
       "0             0              2                1               0   \n",
       "1             1              0                1               1   \n",
       "2             1              0                1               1   \n",
       "3             0              2                1               1   \n",
       "4             1              0                2               0   \n",
       "\n",
       "       ...        StreamingMovies  Contract  PaperlessBilling  PaymentMethod  \\\n",
       "0      ...                      0         0                 1              1   \n",
       "1      ...                      0         1                 0              0   \n",
       "2      ...                      0         0                 1              0   \n",
       "3      ...                      0         1                 0              2   \n",
       "4      ...                      0         0                 1              1   \n",
       "\n",
       "   MonthlyCharges  TotalCharges  Churn  TotalCharges_Binned  \\\n",
       "0           29.85         29.85      0                    0   \n",
       "1           56.95       1889.50      0                    2   \n",
       "2           53.85        108.15      1                    0   \n",
       "3           42.30       1840.75      0                    2   \n",
       "4           70.70        151.65      1                    0   \n",
       "\n",
       "   MonthlyCharges_Binned  tenure_Binned  \n",
       "0                      0              0  \n",
       "1                      1              2  \n",
       "2                      1              0  \n",
       "3                      1              2  \n",
       "4                      2              0  \n",
       "\n",
       "[5 rows x 24 columns]"
      ]
     },
     "execution_count": 6,
     "metadata": {},
     "output_type": "execute_result"
    }
   ],
   "source": [
    "df.head()"
   ]
  },
  {
   "cell_type": "code",
   "execution_count": 7,
   "metadata": {},
   "outputs": [
    {
     "data": {
      "text/html": [
       "<div>\n",
       "<style scoped>\n",
       "    .dataframe tbody tr th:only-of-type {\n",
       "        vertical-align: middle;\n",
       "    }\n",
       "\n",
       "    .dataframe tbody tr th {\n",
       "        vertical-align: top;\n",
       "    }\n",
       "\n",
       "    .dataframe thead th {\n",
       "        text-align: right;\n",
       "    }\n",
       "</style>\n",
       "<table border=\"1\" class=\"dataframe\">\n",
       "  <thead>\n",
       "    <tr style=\"text-align: right;\">\n",
       "      <th></th>\n",
       "      <th>SeniorCitizen_1</th>\n",
       "      <th>Partner_1</th>\n",
       "      <th>Dependents_1</th>\n",
       "      <th>MultipleLines_1</th>\n",
       "      <th>InternetService_1</th>\n",
       "      <th>InternetService_2</th>\n",
       "      <th>OnlineSecurity_1</th>\n",
       "      <th>OnlineSecurity_2</th>\n",
       "      <th>OnlineBackup_1</th>\n",
       "      <th>OnlineBackup_2</th>\n",
       "      <th>...</th>\n",
       "      <th>Contract_2</th>\n",
       "      <th>PaperlessBilling_1</th>\n",
       "      <th>PaymentMethod_1</th>\n",
       "      <th>PaymentMethod_2</th>\n",
       "      <th>PaymentMethod_3</th>\n",
       "      <th>MonthlyCharges_Binned_1</th>\n",
       "      <th>MonthlyCharges_Binned_2</th>\n",
       "      <th>MonthlyCharges_Binned_3</th>\n",
       "      <th>tenure_Binned_2</th>\n",
       "      <th>tenure_Binned_3</th>\n",
       "    </tr>\n",
       "  </thead>\n",
       "  <tbody>\n",
       "    <tr>\n",
       "      <th>0</th>\n",
       "      <td>0</td>\n",
       "      <td>1</td>\n",
       "      <td>0</td>\n",
       "      <td>0</td>\n",
       "      <td>1</td>\n",
       "      <td>0</td>\n",
       "      <td>0</td>\n",
       "      <td>0</td>\n",
       "      <td>1</td>\n",
       "      <td>0</td>\n",
       "      <td>...</td>\n",
       "      <td>0</td>\n",
       "      <td>1</td>\n",
       "      <td>1</td>\n",
       "      <td>0</td>\n",
       "      <td>0</td>\n",
       "      <td>0</td>\n",
       "      <td>0</td>\n",
       "      <td>0</td>\n",
       "      <td>0</td>\n",
       "      <td>0</td>\n",
       "    </tr>\n",
       "    <tr>\n",
       "      <th>1</th>\n",
       "      <td>0</td>\n",
       "      <td>0</td>\n",
       "      <td>0</td>\n",
       "      <td>0</td>\n",
       "      <td>1</td>\n",
       "      <td>0</td>\n",
       "      <td>1</td>\n",
       "      <td>0</td>\n",
       "      <td>0</td>\n",
       "      <td>0</td>\n",
       "      <td>...</td>\n",
       "      <td>0</td>\n",
       "      <td>0</td>\n",
       "      <td>0</td>\n",
       "      <td>0</td>\n",
       "      <td>0</td>\n",
       "      <td>1</td>\n",
       "      <td>0</td>\n",
       "      <td>0</td>\n",
       "      <td>1</td>\n",
       "      <td>0</td>\n",
       "    </tr>\n",
       "    <tr>\n",
       "      <th>2</th>\n",
       "      <td>0</td>\n",
       "      <td>0</td>\n",
       "      <td>0</td>\n",
       "      <td>0</td>\n",
       "      <td>1</td>\n",
       "      <td>0</td>\n",
       "      <td>1</td>\n",
       "      <td>0</td>\n",
       "      <td>1</td>\n",
       "      <td>0</td>\n",
       "      <td>...</td>\n",
       "      <td>0</td>\n",
       "      <td>1</td>\n",
       "      <td>0</td>\n",
       "      <td>0</td>\n",
       "      <td>0</td>\n",
       "      <td>1</td>\n",
       "      <td>0</td>\n",
       "      <td>0</td>\n",
       "      <td>0</td>\n",
       "      <td>0</td>\n",
       "    </tr>\n",
       "    <tr>\n",
       "      <th>3</th>\n",
       "      <td>0</td>\n",
       "      <td>0</td>\n",
       "      <td>0</td>\n",
       "      <td>0</td>\n",
       "      <td>1</td>\n",
       "      <td>0</td>\n",
       "      <td>1</td>\n",
       "      <td>0</td>\n",
       "      <td>0</td>\n",
       "      <td>0</td>\n",
       "      <td>...</td>\n",
       "      <td>0</td>\n",
       "      <td>0</td>\n",
       "      <td>0</td>\n",
       "      <td>1</td>\n",
       "      <td>0</td>\n",
       "      <td>1</td>\n",
       "      <td>0</td>\n",
       "      <td>0</td>\n",
       "      <td>1</td>\n",
       "      <td>0</td>\n",
       "    </tr>\n",
       "    <tr>\n",
       "      <th>4</th>\n",
       "      <td>0</td>\n",
       "      <td>0</td>\n",
       "      <td>0</td>\n",
       "      <td>0</td>\n",
       "      <td>0</td>\n",
       "      <td>1</td>\n",
       "      <td>0</td>\n",
       "      <td>0</td>\n",
       "      <td>0</td>\n",
       "      <td>0</td>\n",
       "      <td>...</td>\n",
       "      <td>0</td>\n",
       "      <td>1</td>\n",
       "      <td>1</td>\n",
       "      <td>0</td>\n",
       "      <td>0</td>\n",
       "      <td>0</td>\n",
       "      <td>1</td>\n",
       "      <td>0</td>\n",
       "      <td>0</td>\n",
       "      <td>0</td>\n",
       "    </tr>\n",
       "  </tbody>\n",
       "</table>\n",
       "<p>5 rows × 29 columns</p>\n",
       "</div>"
      ],
      "text/plain": [
       "   SeniorCitizen_1  Partner_1  Dependents_1  MultipleLines_1  \\\n",
       "0                0          1             0                0   \n",
       "1                0          0             0                0   \n",
       "2                0          0             0                0   \n",
       "3                0          0             0                0   \n",
       "4                0          0             0                0   \n",
       "\n",
       "   InternetService_1  InternetService_2  OnlineSecurity_1  OnlineSecurity_2  \\\n",
       "0                  1                  0                 0                 0   \n",
       "1                  1                  0                 1                 0   \n",
       "2                  1                  0                 1                 0   \n",
       "3                  1                  0                 1                 0   \n",
       "4                  0                  1                 0                 0   \n",
       "\n",
       "   OnlineBackup_1  OnlineBackup_2       ...         Contract_2  \\\n",
       "0               1               0       ...                  0   \n",
       "1               0               0       ...                  0   \n",
       "2               1               0       ...                  0   \n",
       "3               0               0       ...                  0   \n",
       "4               0               0       ...                  0   \n",
       "\n",
       "   PaperlessBilling_1  PaymentMethod_1  PaymentMethod_2  PaymentMethod_3  \\\n",
       "0                   1                1                0                0   \n",
       "1                   0                0                0                0   \n",
       "2                   1                0                0                0   \n",
       "3                   0                0                1                0   \n",
       "4                   1                1                0                0   \n",
       "\n",
       "   MonthlyCharges_Binned_1  MonthlyCharges_Binned_2  MonthlyCharges_Binned_3  \\\n",
       "0                        0                        0                        0   \n",
       "1                        1                        0                        0   \n",
       "2                        1                        0                        0   \n",
       "3                        1                        0                        0   \n",
       "4                        0                        1                        0   \n",
       "\n",
       "   tenure_Binned_2  tenure_Binned_3  \n",
       "0                0                0  \n",
       "1                1                0  \n",
       "2                0                0  \n",
       "3                1                0  \n",
       "4                0                0  \n",
       "\n",
       "[5 rows x 29 columns]"
      ]
     },
     "execution_count": 7,
     "metadata": {},
     "output_type": "execute_result"
    }
   ],
   "source": [
    "dfonlysigni.head()"
   ]
  },
  {
   "cell_type": "markdown",
   "metadata": {},
   "source": [
    "# Random Forest - Ensemble of decision trees"
   ]
  },
  {
   "cell_type": "code",
   "execution_count": 8,
   "metadata": {},
   "outputs": [],
   "source": [
    "X= dfonlysigni.values\n",
    "y= df.iloc[:, 20].values\n",
    "\n",
    "#Splitting Datasets into Training and Test\n",
    "from sklearn.model_selection import train_test_split\n",
    "x_train, x_test, y_train, y_test = train_test_split(X,y,test_size = 0.2, random_state = 0)"
   ]
  },
  {
   "cell_type": "code",
   "execution_count": 9,
   "metadata": {},
   "outputs": [
    {
     "data": {
      "text/plain": [
       "RandomForestClassifier(bootstrap=True, class_weight=None, criterion='gini',\n",
       "            max_depth=None, max_features='auto', max_leaf_nodes=None,\n",
       "            min_impurity_decrease=0.0, min_impurity_split=None,\n",
       "            min_samples_leaf=1, min_samples_split=2,\n",
       "            min_weight_fraction_leaf=0.0, n_estimators=20, n_jobs=1,\n",
       "            oob_score=False, random_state=None, verbose=0,\n",
       "            warm_start=False)"
      ]
     },
     "execution_count": 9,
     "metadata": {},
     "output_type": "execute_result"
    }
   ],
   "source": [
    "rf = RandomForestClassifier(n_estimators=20)\n",
    "rf.fit(x_train, y_train)"
   ]
  },
  {
   "cell_type": "code",
   "execution_count": 10,
   "metadata": {},
   "outputs": [
    {
     "name": "stdout",
     "output_type": "stream",
     "text": [
      "0.7452093683463449\n",
      "\n",
      "[[873 168]\n",
      " [191 177]]\n",
      "\n",
      "\n",
      "             precision    recall  f1-score   support\n",
      "\n",
      "          0       0.82      0.84      0.83      1041\n",
      "          1       0.51      0.48      0.50       368\n",
      "\n",
      "avg / total       0.74      0.75      0.74      1409\n",
      "\n"
     ]
    },
    {
     "data": {
      "image/png": "[encoded data removed]",
      "text/plain": [
       "<matplotlib.figure.Figure at 0x1b8f26616a0>"
      ]
     },
     "metadata": {},
     "output_type": "display_data"
    }
   ],
   "source": [
    "ypred_rf = rf.predict(x_test) \n",
    "# Use score method to get accuracy of model\n",
    "score_rf = rf.score(x_test, y_test)\n",
    "print(score_rf)\n",
    "print()\n",
    "#Confusion Matrix\n",
    "cm_rf = metrics.confusion_matrix(y_test, ypred_rf)\n",
    "print(cm_rf)\n",
    "print()\n",
    "#The confusion matrix above is not visually super informative or visually appealing.\n",
    "# Method 1 (Seaborn)\n",
    "plt.figure(figsize=(9,9))\n",
    "sns.heatmap(cm_rf, annot=True, fmt=\".3f\", linewidths=.5, square = True, cmap = 'Blues_r');\n",
    "plt.ylabel('Actual label');\n",
    "plt.xlabel('Predicted label');\n",
    "all_sample_title = 'Accuracy Score: {0}'.format(score_rf)\n",
    "plt.title(all_sample_title, size = 15)\n",
    "\n",
    "print()\n",
    "print(classification_report(y_test, ypred_rf))"
   ]
  },
  {
   "cell_type": "code",
   "execution_count": 11,
   "metadata": {},
   "outputs": [
    {
     "data": {
      "text/plain": [
       "0.9181753638622648"
      ]
     },
     "execution_count": 11,
     "metadata": {},
     "output_type": "execute_result"
    }
   ],
   "source": [
    "rf.score(x_train, y_train)"
   ]
  },
  {
   "cell_type": "markdown",
   "metadata": {},
   "source": [
    "Decision tree model accuracy on training set: 0.9219027334043308 \n",
    "\n",
    "Random Forest model accuracy on training set: 0.9169329073482428\n",
    "\n",
    "So, Overfitting effect is reduced when random forest is used"
   ]
  },
  {
   "cell_type": "markdown",
   "metadata": {},
   "source": [
    "# Bagging or Bootstrap Aggregation"
   ]
  },
  {
   "cell_type": "code",
   "execution_count": 12,
   "metadata": {},
   "outputs": [
    {
     "data": {
      "text/plain": [
       "BaggingClassifier(base_estimator=DecisionTreeClassifier(class_weight=None, criterion='gini', max_depth=None,\n",
       "            max_features=None, max_leaf_nodes=None,\n",
       "            min_impurity_decrease=0.0, min_impurity_split=None,\n",
       "            min_samples_leaf=1, min_samples_split=2,\n",
       "            min_weight_fraction_leaf=0.0, presort=False, random_state=None,\n",
       "            splitter='best'),\n",
       "         bootstrap=True, bootstrap_features=False, max_features=1.0,\n",
       "         max_samples=0.5, n_estimators=20, n_jobs=1, oob_score=False,\n",
       "         random_state=None, verbose=0, warm_start=False)"
      ]
     },
     "execution_count": 12,
     "metadata": {},
     "output_type": "execute_result"
    }
   ],
   "source": [
    "bg = BaggingClassifier(DecisionTreeClassifier(), max_samples=0.5, max_features=1.0, n_estimators=20)\n",
    "bg.fit(x_train, y_train)"
   ]
  },
  {
   "cell_type": "code",
   "execution_count": 13,
   "metadata": {},
   "outputs": [
    {
     "name": "stdout",
     "output_type": "stream",
     "text": [
      "0.752306600425834\n",
      "\n",
      "[[899 142]\n",
      " [207 161]]\n",
      "\n",
      "\n",
      "             precision    recall  f1-score   support\n",
      "\n",
      "          0       0.81      0.86      0.84      1041\n",
      "          1       0.53      0.44      0.48       368\n",
      "\n",
      "avg / total       0.74      0.75      0.74      1409\n",
      "\n"
     ]
    },
    {
     "data": {
      "image/png": "[encoded data removed]",
      "text/plain": [
       "<matplotlib.figure.Figure at 0x1b8f2a44390>"
      ]
     },
     "metadata": {},
     "output_type": "display_data"
    }
   ],
   "source": [
    "ypred_bgdt = bg.predict(x_test) \n",
    "# Use score method to get accuracy of model\n",
    "score_bgdt = bg.score(x_test, y_test)\n",
    "print(score_bgdt)\n",
    "print()\n",
    "#Confusion Matrix\n",
    "cm_bgdt = metrics.confusion_matrix(y_test, ypred_bgdt)\n",
    "print(cm_bgdt)\n",
    "print()\n",
    "#The confusion matrix above is not visually super informative or visually appealing.\n",
    "# Method 1 (Seaborn)\n",
    "plt.figure(figsize=(9,9))\n",
    "sns.heatmap(cm_bgdt, annot=True, fmt=\".3f\", linewidths=.5, square = True, cmap = 'Blues_r');\n",
    "plt.ylabel('Actual label');\n",
    "plt.xlabel('Predicted label');\n",
    "all_sample_title = 'Accuracy Score: {0}'.format(score_bgdt)\n",
    "plt.title(all_sample_title, size = 15)\n",
    "\n",
    "print()\n",
    "print(classification_report(y_test, ypred_bgdt))"
   ]
  },
  {
   "cell_type": "code",
   "execution_count": 14,
   "metadata": {},
   "outputs": [
    {
     "data": {
      "text/plain": [
       "0.8840965566205183"
      ]
     },
     "execution_count": 14,
     "metadata": {},
     "output_type": "execute_result"
    }
   ],
   "source": [
    "bg.score(x_train, y_train)"
   ]
  },
  {
   "cell_type": "markdown",
   "metadata": {},
   "source": [
    "Bagged decision tree algorithm has higher accuracy compared to DT, RF and has the least overfitting effect"
   ]
  },
  {
   "cell_type": "markdown",
   "metadata": {},
   "source": [
    "# Boosting - Ada Boost"
   ]
  },
  {
   "cell_type": "code",
   "execution_count": 15,
   "metadata": {},
   "outputs": [
    {
     "data": {
      "text/plain": [
       "AdaBoostClassifier(algorithm='SAMME.R',\n",
       "          base_estimator=DecisionTreeClassifier(class_weight=None, criterion='gini', max_depth=None,\n",
       "            max_features=None, max_leaf_nodes=None,\n",
       "            min_impurity_decrease=0.0, min_impurity_split=None,\n",
       "            min_samples_leaf=1, min_samples_split=2,\n",
       "            min_weight_fraction_leaf=0.0, presort=False, random_state=None,\n",
       "            splitter='best'),\n",
       "          learning_rate=1, n_estimators=10, random_state=None)"
      ]
     },
     "execution_count": 15,
     "metadata": {},
     "output_type": "execute_result"
    }
   ],
   "source": [
    "adb = AdaBoostClassifier(DecisionTreeClassifier(), n_estimators = 10, learning_rate = 1)\n",
    "adb.fit(x_train, y_train)"
   ]
  },
  {
   "cell_type": "code",
   "execution_count": 16,
   "metadata": {},
   "outputs": [
    {
     "name": "stdout",
     "output_type": "stream",
     "text": [
      "0.7381121362668559\n",
      "\n",
      "[[845 196]\n",
      " [173 195]]\n",
      "\n",
      "\n",
      "             precision    recall  f1-score   support\n",
      "\n",
      "          0       0.83      0.81      0.82      1041\n",
      "          1       0.50      0.53      0.51       368\n",
      "\n",
      "avg / total       0.74      0.74      0.74      1409\n",
      "\n"
     ]
    },
    {
     "data": {
      "image/png": "[encoded data removed]",
      "text/plain": [
       "<matplotlib.figure.Figure at 0x1b8f297f630>"
      ]
     },
     "metadata": {},
     "output_type": "display_data"
    }
   ],
   "source": [
    "ypred_adbdt = adb.predict(x_test) \n",
    "# Use score method to get accuracy of model\n",
    "score_adbdt = adb.score(x_test, y_test)\n",
    "print(score_adbdt)\n",
    "print()\n",
    "#Confusion Matrix\n",
    "cm_adbdt = metrics.confusion_matrix(y_test, ypred_adbdt)\n",
    "print(cm_adbdt)\n",
    "print()\n",
    "#The confusion matrix above is not visually super informative or visually appealing.\n",
    "# Method 1 (Seaborn)\n",
    "plt.figure(figsize=(9,9))\n",
    "sns.heatmap(cm_adbdt, annot=True, fmt=\".3f\", linewidths=.5, square = True, cmap = 'Blues_r');\n",
    "plt.ylabel('Actual label')\n",
    "plt.xlabel('Predicted label')\n",
    "all_sample_title = 'Accuracy Score: {0}'.format(score_adbdt)\n",
    "plt.title(all_sample_title, size = 15)\n",
    "\n",
    "print()\n",
    "print(classification_report(y_test, ypred_adbdt))"
   ]
  },
  {
   "cell_type": "code",
   "execution_count": 17,
   "metadata": {},
   "outputs": [
    {
     "data": {
      "text/plain": [
       "0.9219027334043308"
      ]
     },
     "execution_count": 17,
     "metadata": {},
     "output_type": "execute_result"
    }
   ],
   "source": [
    "adb.score(x_train, y_train)"
   ]
  },
  {
   "cell_type": "markdown",
   "metadata": {},
   "source": [
    "# SVM"
   ]
  },
  {
   "cell_type": "code",
   "execution_count": 18,
   "metadata": {},
   "outputs": [
    {
     "data": {
      "text/plain": [
       "SVC(C=1.0, cache_size=200, class_weight=None, coef0=0.0,\n",
       "  decision_function_shape='ovr', degree=3, gamma='auto', kernel='linear',\n",
       "  max_iter=-1, probability=False, random_state=None, shrinking=True,\n",
       "  tol=0.001, verbose=False)"
      ]
     },
     "execution_count": 18,
     "metadata": {},
     "output_type": "execute_result"
    }
   ],
   "source": [
    "svma = SVC(kernel = 'linear')\n",
    "svma.fit(x_train, y_train)"
   ]
  },
  {
   "cell_type": "code",
   "execution_count": 19,
   "metadata": {},
   "outputs": [
    {
     "name": "stdout",
     "output_type": "stream",
     "text": [
      "0.7757274662881476\n",
      "Accuracy in training set: 0.7839900603478879\n",
      "\n",
      "[[919 122]\n",
      " [194 174]]\n",
      "\n",
      "\n",
      "             precision    recall  f1-score   support\n",
      "\n",
      "          0       0.83      0.88      0.85      1041\n",
      "          1       0.59      0.47      0.52       368\n",
      "\n",
      "avg / total       0.76      0.78      0.77      1409\n",
      "\n"
     ]
    },
    {
     "data": {
      "image/png": "[encoded data removed]",
      "text/plain": [
       "<matplotlib.figure.Figure at 0x1b8f2a71da0>"
      ]
     },
     "metadata": {},
     "output_type": "display_data"
    }
   ],
   "source": [
    "ypred_svma = svma.predict(x_test) \n",
    "# Use score method to get accuracy of model\n",
    "score_svma = svma.score(x_test, y_test)\n",
    "score_svma_training = svma.score(x_train, y_train)\n",
    "print(score_svma)\n",
    "print(\"Accuracy in training set:\", score_svma_training)\n",
    "print()\n",
    "#Confusion Matrix\n",
    "cm_svma = metrics.confusion_matrix(y_test, ypred_svma)\n",
    "print(cm_svma)\n",
    "print()\n",
    "#The confusion matrix above is not visually super informative or visually appealing.\n",
    "# Method 1 (Seaborn)\n",
    "plt.figure(figsize=(9,9))\n",
    "sns.heatmap(cm_svma, annot=True, fmt=\".3f\", linewidths=.5, square = True, cmap = 'Blues_r');\n",
    "plt.ylabel('Actual label')\n",
    "plt.xlabel('Predicted label')\n",
    "all_sample_title = 'Accuracy Score: {0}'.format(score_svma)\n",
    "plt.title(all_sample_title, size = 15)\n",
    "\n",
    "print()\n",
    "print(classification_report(y_test, ypred_svma))"
   ]
  },
  {
   "cell_type": "code",
   "execution_count": 20,
   "metadata": {},
   "outputs": [
    {
     "data": {
      "text/plain": [
       "SVC(C=1.0, cache_size=200, class_weight=None, coef0=0.0,\n",
       "  decision_function_shape='ovr', degree=3, gamma='auto', kernel='poly',\n",
       "  max_iter=-1, probability=False, random_state=None, shrinking=True,\n",
       "  tol=0.001, verbose=False)"
      ]
     },
     "execution_count": 20,
     "metadata": {},
     "output_type": "execute_result"
    }
   ],
   "source": [
    "svma = SVC(kernel = 'poly')\n",
    "svma.fit(x_train, y_train)"
   ]
  },
  {
   "cell_type": "code",
   "execution_count": 21,
   "metadata": {},
   "outputs": [
    {
     "name": "stdout",
     "output_type": "stream",
     "text": [
      "0.7409510290986515\n",
      "Accuracy in training set: 0.7399716009939652\n",
      "\n",
      "[[1038    3]\n",
      " [ 362    6]]\n",
      "\n",
      "\n",
      "             precision    recall  f1-score   support\n",
      "\n",
      "          0       0.74      1.00      0.85      1041\n",
      "          1       0.67      0.02      0.03       368\n",
      "\n",
      "avg / total       0.72      0.74      0.64      1409\n",
      "\n"
     ]
    },
    {
     "data": {
      "image/png": "[encoded data removed]",
      "text/plain": [
       "<matplotlib.figure.Figure at 0x1b8f2fdd1d0>"
      ]
     },
     "metadata": {},
     "output_type": "display_data"
    }
   ],
   "source": [
    "ypred_svma = svma.predict(x_test) \n",
    "# Use score method to get accuracy of model\n",
    "score_svma = svma.score(x_test, y_test)\n",
    "score_svma_training = svma.score(x_train, y_train)\n",
    "print(score_svma)\n",
    "print(\"Accuracy in training set:\", score_svma_training)\n",
    "print()\n",
    "#Confusion Matrix\n",
    "cm_svma = metrics.confusion_matrix(y_test, ypred_svma)\n",
    "print(cm_svma)\n",
    "print()\n",
    "#The confusion matrix above is not visually super informative or visually appealing.\n",
    "# Method 1 (Seaborn)\n",
    "plt.figure(figsize=(9,9))\n",
    "sns.heatmap(cm_svma, annot=True, fmt=\".3f\", linewidths=.5, square = True, cmap = 'Blues_r');\n",
    "plt.ylabel('Actual label')\n",
    "plt.xlabel('Predicted label')\n",
    "all_sample_title = 'Accuracy Score: {0}'.format(score_svma)\n",
    "plt.title(all_sample_title, size = 15)\n",
    "\n",
    "print()\n",
    "print(classification_report(y_test, ypred_svma))"
   ]
  },
  {
   "cell_type": "code",
   "execution_count": 22,
   "metadata": {},
   "outputs": [
    {
     "data": {
      "text/plain": [
       "SVC(C=1.0, cache_size=200, class_weight=None, coef0=0.0,\n",
       "  decision_function_shape='ovr', degree=3, gamma='auto', kernel='rbf',\n",
       "  max_iter=-1, probability=False, random_state=None, shrinking=True,\n",
       "  tol=0.001, verbose=False)"
      ]
     },
     "execution_count": 22,
     "metadata": {},
     "output_type": "execute_result"
    }
   ],
   "source": [
    "svma = SVC(kernel = 'rbf')\n",
    "svma.fit(x_train, y_train)"
   ]
  },
  {
   "cell_type": "code",
   "execution_count": 23,
   "metadata": {},
   "outputs": [
    {
     "name": "stdout",
     "output_type": "stream",
     "text": [
      "0.7849538679914834\n",
      "Accuracy in training set: 0.7921547745828896\n",
      "\n",
      "[[941 100]\n",
      " [203 165]]\n",
      "\n",
      "\n",
      "             precision    recall  f1-score   support\n",
      "\n",
      "          0       0.82      0.90      0.86      1041\n",
      "          1       0.62      0.45      0.52       368\n",
      "\n",
      "avg / total       0.77      0.78      0.77      1409\n",
      "\n"
     ]
    },
    {
     "data": {
      "image/png": "[encoded data removed]",
      "text/plain": [
       "<matplotlib.figure.Figure at 0x1b8f837a438>"
      ]
     },
     "metadata": {},
     "output_type": "display_data"
    }
   ],
   "source": [
    "ypred_svma = svma.predict(x_test) \n",
    "# Use score method to get accuracy of model\n",
    "score_svma = svma.score(x_test, y_test)\n",
    "score_svma_training = svma.score(x_train, y_train)\n",
    "print(score_svma)\n",
    "print(\"Accuracy in training set:\", score_svma_training)\n",
    "print()\n",
    "#Confusion Matrix\n",
    "cm_svma = metrics.confusion_matrix(y_test, ypred_svma)\n",
    "print(cm_svma)\n",
    "print()\n",
    "#The confusion matrix above is not visually super informative or visually appealing.\n",
    "# Method 1 (Seaborn)\n",
    "plt.figure(figsize=(9,9))\n",
    "sns.heatmap(cm_svma, annot=True, fmt=\".3f\", linewidths=.5, square = True, cmap = 'Blues_r');\n",
    "plt.ylabel('Actual label')\n",
    "plt.xlabel('Predicted label')\n",
    "all_sample_title = 'Accuracy Score: {0}'.format(score_svma)\n",
    "plt.title(all_sample_title, size = 15)\n",
    "\n",
    "print()\n",
    "print(classification_report(y_test, ypred_svma))"
   ]
  },
  {
   "cell_type": "code",
   "execution_count": 24,
   "metadata": {},
   "outputs": [
    {
     "data": {
      "text/plain": [
       "SVC(C=0.5, cache_size=200, class_weight=None, coef0=0.0,\n",
       "  decision_function_shape='ovr', degree=3, gamma='auto', kernel='rbf',\n",
       "  max_iter=-1, probability=False, random_state=None, shrinking=True,\n",
       "  tol=0.001, verbose=False)"
      ]
     },
     "execution_count": 24,
     "metadata": {},
     "output_type": "execute_result"
    }
   ],
   "source": [
    "svma = SVC(C= 0.50, kernel = 'rbf')\n",
    "svma.fit(x_train, y_train)"
   ]
  },
  {
   "cell_type": "code",
   "execution_count": 25,
   "metadata": {},
   "outputs": [
    {
     "name": "stdout",
     "output_type": "stream",
     "text": [
      "0.78708303761533\n",
      "Accuracy in training set: 0.7932197373091942\n",
      "\n",
      "[[945  96]\n",
      " [204 164]]\n",
      "\n",
      "\n",
      "             precision    recall  f1-score   support\n",
      "\n",
      "          0       0.82      0.91      0.86      1041\n",
      "          1       0.63      0.45      0.52       368\n",
      "\n",
      "avg / total       0.77      0.79      0.77      1409\n",
      "\n"
     ]
    },
    {
     "data": {
      "image/png": "[encoded data removed]",
      "text/plain": [
       "<matplotlib.figure.Figure at 0x1b8f83f35f8>"
      ]
     },
     "metadata": {},
     "output_type": "display_data"
    }
   ],
   "source": [
    "ypred_svma = svma.predict(x_test) \n",
    "# Use score method to get accuracy of model\n",
    "score_svma = svma.score(x_test, y_test)\n",
    "score_svma_training = svma.score(x_train, y_train)\n",
    "print(score_svma)\n",
    "print(\"Accuracy in training set:\", score_svma_training)\n",
    "print()\n",
    "#Confusion Matrix\n",
    "cm_svma = metrics.confusion_matrix(y_test, ypred_svma)\n",
    "print(cm_svma)\n",
    "print()\n",
    "#The confusion matrix above is not visually super informative or visually appealing.\n",
    "# Method 1 (Seaborn)\n",
    "plt.figure(figsize=(9,9))\n",
    "sns.heatmap(cm_svma, annot=True, fmt=\".3f\", linewidths=.5, square = True, cmap = 'Blues_r');\n",
    "plt.ylabel('Actual label')\n",
    "plt.xlabel('Predicted label')\n",
    "all_sample_title = 'Accuracy Score: {0}'.format(score_svma)\n",
    "plt.title(all_sample_title, size = 15)\n",
    "\n",
    "print()\n",
    "print(classification_report(y_test, ypred_svma))"
   ]
  },
  {
   "cell_type": "code",
   "execution_count": 26,
   "metadata": {},
   "outputs": [
    {
     "data": {
      "text/plain": [
       "SVC(C=0.5, cache_size=200, class_weight=None, coef0=0.0,\n",
       "  decision_function_shape='ovr', degree=3, gamma=0.08, kernel='rbf',\n",
       "  max_iter=-1, probability=False, random_state=None, shrinking=True,\n",
       "  tol=0.001, verbose=False)"
      ]
     },
     "execution_count": 26,
     "metadata": {},
     "output_type": "execute_result"
    }
   ],
   "source": [
    "svma = SVC(C= 0.50, gamma=0.08, kernel = 'rbf')\n",
    "svma.fit(x_train, y_train)"
   ]
  },
  {
   "cell_type": "code",
   "execution_count": 27,
   "metadata": {},
   "outputs": [
    {
     "name": "stdout",
     "output_type": "stream",
     "text": [
      "0.7913413768630234\n",
      "Accuracy in training set: 0.7962371317003905\n",
      "\n",
      "[[957  84]\n",
      " [210 158]]\n",
      "\n",
      "\n",
      "             precision    recall  f1-score   support\n",
      "\n",
      "          0       0.82      0.92      0.87      1041\n",
      "          1       0.65      0.43      0.52       368\n",
      "\n",
      "avg / total       0.78      0.79      0.78      1409\n",
      "\n"
     ]
    },
    {
     "data": {
      "image/png": "[encoded data removed]",
      "text/plain": [
       "<matplotlib.figure.Figure at 0x1b8f8716fd0>"
      ]
     },
     "metadata": {},
     "output_type": "display_data"
    }
   ],
   "source": [
    "ypred_svma = svma.predict(x_test) \n",
    "# Use score method to get accuracy of model\n",
    "score_svma = svma.score(x_test, y_test)\n",
    "score_svma_training = svma.score(x_train, y_train)\n",
    "print(score_svma)\n",
    "print(\"Accuracy in training set:\", score_svma_training)\n",
    "print()\n",
    "#Confusion Matrix\n",
    "cm_svma = metrics.confusion_matrix(y_test, ypred_svma)\n",
    "print(cm_svma)\n",
    "print()\n",
    "#The confusion matrix above is not visually super informative or visually appealing.\n",
    "# Method 1 (Seaborn)\n",
    "plt.figure(figsize=(9,9))\n",
    "sns.heatmap(cm_svma, annot=True, fmt=\".3f\", linewidths=.5, square = True, cmap = 'Blues_r');\n",
    "plt.ylabel('Actual label')\n",
    "plt.xlabel('Predicted label')\n",
    "all_sample_title = 'Accuracy Score: {0}'.format(score_svma)\n",
    "plt.title(all_sample_title, size = 15)\n",
    "\n",
    "print()\n",
    "print(classification_report(y_test, ypred_svma))"
   ]
  },
  {
   "cell_type": "code",
   "execution_count": 28,
   "metadata": {},
   "outputs": [],
   "source": [
    "X= dfonlysigni.values\n",
    "y= df.iloc[:, 20].values"
   ]
  },
  {
   "cell_type": "code",
   "execution_count": 29,
   "metadata": {},
   "outputs": [],
   "source": [
    "from sklearn.metrics import mean_squared_error"
   ]
  },
  {
   "cell_type": "code",
   "execution_count": 30,
   "metadata": {},
   "outputs": [],
   "source": [
    "def calc_train_error(X_train, y_train, model):\n",
    "    '''returns in-sample error for already fit model.'''\n",
    "    predictions = model.predict(X_train)\n",
    "    mse = mean_squared_error(y_train, predictions)\n",
    "    rmse = np.sqrt(mse)\n",
    "    return mse\n",
    "\n",
    "def calc_validation_error(X_test, y_test, model):\n",
    "    '''returns out-of-sample error for already fit model.'''\n",
    "    predictions = model.predict(X_test)\n",
    "    mse = mean_squared_error(y_test, predictions)\n",
    "    rmse = np.sqrt(mse)\n",
    "    return mse\n",
    "\n",
    "def calc_metrics(X_train, y_train, X_test, y_test, model):\n",
    "    '''fits model and returns the RMSE for in-sample error and out-of-sample error'''\n",
    "    model.fit(X_train, y_train)\n",
    "    train_error = calc_train_error(X_train, y_train, model)\n",
    "    validation_error = calc_validation_error(X_test, y_test, model)\n",
    "    return train_error, validation_error"
   ]
  },
  {
   "cell_type": "code",
   "execution_count": 31,
   "metadata": {},
   "outputs": [],
   "source": [
    "# from sklearn.model_selection import KFold\n",
    "\n",
    "# K = 10\n",
    "# kf = KFold(n_splits=K, shuffle=True, random_state=42)\n",
    "# cs = [0.001, 0.01, 0.1, 1, 10, 100, 1000]\n",
    "# for c in cs:\n",
    "#     train_errors = []\n",
    "#     validation_errors = []\n",
    "#     for train_index, val_index in kf.split(x_train, y_train):\n",
    "        \n",
    "#         # split data\n",
    "#         X_train, X_val = x_train[train_index], x_train[val_index]\n",
    "#         y_train, y_val = y_train[train_index], y_train[val_index]\n",
    "\n",
    "#         # instantiate model\n",
    "#         svma = SVC(C= c, kernel = 'rbf')\n",
    "        \n",
    "#         #calculate errors\n",
    "#         train_error, val_error = calc_metrics(X_train, y_train, X_val, y_val, svma)\n",
    "        \n",
    "#         # append to appropriate list\n",
    "#         train_errors.append(train_error)\n",
    "#         validation_errors.append(val_error)\n",
    "    \n",
    "#     # generate report\n",
    "#     print('C: {:6} | mean(train_error): {:7} | mean(val_error): {}'.\n",
    "#           format(c, round(np.mean(train_errors),4), round(np.mean(validation_errors),4)))"
   ]
  },
  {
   "cell_type": "code",
   "execution_count": 32,
   "metadata": {},
   "outputs": [],
   "source": [
    "# from sklearn.model_selection import KFold\n",
    "\n",
    "# K = 10\n",
    "# kf = KFold(n_splits=K, shuffle=True, random_state=42)\n",
    "# gs = [0.001, 0.01, 0.1, 1, 10, 100, 1000]\n",
    "# for g in gs:\n",
    "#     train_errors = []\n",
    "#     validation_errors = []\n",
    "#     for train_index, val_index in kf.split(X, y):\n",
    "        \n",
    "#         # split data\n",
    "#         X_train, X_val = X[train_index], X[val_index]\n",
    "#         y_train, y_val = y[train_index], y[val_index]\n",
    "\n",
    "#         # instantiate model\n",
    "#         svma = SVC(C= 100, gamma = g, kernel = 'rbf')\n",
    "        \n",
    "#         #calculate errors\n",
    "#         train_error, val_error = calc_metrics(X_train, y_train, X_val, y_val, svma)\n",
    "        \n",
    "#         # append to appropriate list\n",
    "#         train_errors.append(train_error)\n",
    "#         validation_errors.append(val_error)\n",
    "    \n",
    "#     # generate report\n",
    "#     print('gamma: {:6} | mean(train_error): {:7} | mean(val_error): {}'.\n",
    "#           format(g, round(np.mean(train_errors),4), round(np.mean(validation_errors),4)))"
   ]
  },
  {
   "cell_type": "code",
   "execution_count": 33,
   "metadata": {},
   "outputs": [],
   "source": [
    "X= dfonlysigni.values\n",
    "y= df.iloc[:, 20].values\n",
    "\n",
    "#Splitting Datasets into Training and Test\n",
    "from sklearn.model_selection import train_test_split\n",
    "x_train, x_test, y_train, y_test = train_test_split(X,y,test_size = 0.2, random_state = 0)"
   ]
  },
  {
   "cell_type": "code",
   "execution_count": 34,
   "metadata": {},
   "outputs": [
    {
     "data": {
      "text/plain": [
       "SVC(C=100, cache_size=200, class_weight=None, coef0=0.0,\n",
       "  decision_function_shape='ovr', degree=3, gamma='auto', kernel='rbf',\n",
       "  max_iter=-1, probability=False, random_state=None, shrinking=True,\n",
       "  tol=0.001, verbose=False)"
      ]
     },
     "execution_count": 34,
     "metadata": {},
     "output_type": "execute_result"
    }
   ],
   "source": [
    "svma = SVC(C= 100, kernel = 'rbf')\n",
    "svma.fit(x_train, y_train)"
   ]
  },
  {
   "cell_type": "code",
   "execution_count": 35,
   "metadata": {},
   "outputs": [
    {
     "name": "stdout",
     "output_type": "stream",
     "text": [
      "0.7828246983676366\n",
      "Accuracy in training set: 0.8196663116790912\n",
      "\n",
      "[[920 121]\n",
      " [185 183]]\n",
      "\n",
      "\n",
      "             precision    recall  f1-score   support\n",
      "\n",
      "          0       0.83      0.88      0.86      1041\n",
      "          1       0.60      0.50      0.54       368\n",
      "\n",
      "avg / total       0.77      0.78      0.78      1409\n",
      "\n"
     ]
    },
    {
     "data": {
      "image/png": "[encoded data removed]",
      "text/plain": [
       "<matplotlib.figure.Figure at 0x1b8f87686d8>"
      ]
     },
     "metadata": {},
     "output_type": "display_data"
    }
   ],
   "source": [
    "ypred_svma = svma.predict(x_test) \n",
    "# Use score method to get accuracy of model\n",
    "score_svma = svma.score(x_test, y_test)\n",
    "score_svma_training = svma.score(x_train, y_train)\n",
    "print(score_svma)\n",
    "print(\"Accuracy in training set:\", score_svma_training)\n",
    "print()\n",
    "#Confusion Matrix\n",
    "cm_svma = metrics.confusion_matrix(y_test, ypred_svma)\n",
    "print(cm_svma)\n",
    "print()\n",
    "#The confusion matrix above is not visually super informative or visually appealing.\n",
    "# Method 1 (Seaborn)\n",
    "plt.figure(figsize=(9,9))\n",
    "sns.heatmap(cm_svma, annot=True, fmt=\".3f\", linewidths=.5, square = True, cmap = 'Blues_r');\n",
    "plt.ylabel('Actual label')\n",
    "plt.xlabel('Predicted label')\n",
    "all_sample_title = 'Accuracy Score: {0}'.format(score_svma)\n",
    "plt.title(all_sample_title, size = 15)\n",
    "\n",
    "print()\n",
    "print(classification_report(y_test, ypred_svma))"
   ]
  },
  {
   "cell_type": "code",
   "execution_count": 36,
   "metadata": {},
   "outputs": [
    {
     "data": {
      "text/plain": [
       "SVC(C=100, cache_size=200, class_weight=None, coef0=0.0,\n",
       "  decision_function_shape='ovr', degree=3, gamma=0.01, kernel='rbf',\n",
       "  max_iter=-1, probability=False, random_state=None, shrinking=True,\n",
       "  tol=0.001, verbose=False)"
      ]
     },
     "execution_count": 36,
     "metadata": {},
     "output_type": "execute_result"
    }
   ],
   "source": [
    "svma = SVC(C= 100, gamma=0.01, kernel = 'rbf')\n",
    "svma.fit(x_train, y_train)"
   ]
  },
  {
   "cell_type": "code",
   "execution_count": 37,
   "metadata": {},
   "outputs": [
    {
     "name": "stdout",
     "output_type": "stream",
     "text": [
      "0.7877927608232789\n",
      "Accuracy in training set: 0.7921547745828896\n",
      "\n",
      "[[944  97]\n",
      " [202 166]]\n",
      "\n",
      "\n",
      "             precision    recall  f1-score   support\n",
      "\n",
      "          0       0.82      0.91      0.86      1041\n",
      "          1       0.63      0.45      0.53       368\n",
      "\n",
      "avg / total       0.77      0.79      0.78      1409\n",
      "\n"
     ]
    },
    {
     "data": {
      "image/png": "[encoded data removed]",
      "text/plain": [
       "<matplotlib.figure.Figure at 0x1b8f87d7860>"
      ]
     },
     "metadata": {},
     "output_type": "display_data"
    }
   ],
   "source": [
    "ypred_svma = svma.predict(x_test) \n",
    "# Use score method to get accuracy of model\n",
    "score_svma = svma.score(x_test, y_test)\n",
    "score_svma_training = svma.score(x_train, y_train)\n",
    "print(score_svma)\n",
    "print(\"Accuracy in training set:\", score_svma_training)\n",
    "print()\n",
    "#Confusion Matrix\n",
    "cm_svma = metrics.confusion_matrix(y_test, ypred_svma)\n",
    "print(cm_svma)\n",
    "print()\n",
    "#The confusion matrix above is not visually super informative or visually appealing.\n",
    "# Method 1 (Seaborn)\n",
    "plt.figure(figsize=(9,9))\n",
    "sns.heatmap(cm_svma, annot=True, fmt=\".3f\", linewidths=.5, square = True, cmap = 'Blues_r');\n",
    "plt.ylabel('Actual label')\n",
    "plt.xlabel('Predicted label')\n",
    "all_sample_title = 'Accuracy Score: {0}'.format(score_svma)\n",
    "plt.title(all_sample_title, size = 15)\n",
    "\n",
    "print()\n",
    "print(classification_report(y_test, ypred_svma))"
   ]
  },
  {
   "cell_type": "code",
   "execution_count": 38,
   "metadata": {},
   "outputs": [],
   "source": [
    "# from sklearn.model_selection import KFold\n",
    "# data = x_train\n",
    "# target = y_train\n",
    "# K = 10\n",
    "# kf = KFold(n_splits=K, shuffle=True, random_state=42)\n",
    "# cs = [0.001, 0.01, 0.1, 1, 10, 100, 1000]\n",
    "# for c in cs:\n",
    "#     train_errors = []\n",
    "#     validation_errors = []\n",
    "#     for train_index, val_index in kf.split(data, target):\n",
    "        \n",
    "#         # split data\n",
    "#         X_train, X_val = data[train_index], data[val_index]\n",
    "#         y_train, y_val = target[train_index], target[val_index]\n",
    "\n",
    "#         # instantiate model\n",
    "#         svma = SVC(C= c, kernel = 'rbf')\n",
    "        \n",
    "#         #calculate errors\n",
    "#         train_error, val_error = calc_metrics(X_train, y_train, X_val, y_val, svma)\n",
    "        \n",
    "#         # append to appropriate list\n",
    "#         train_errors.append(train_error)\n",
    "#         validation_errors.append(val_error)\n",
    "    \n",
    "#     # generate report\n",
    "#     print('C: {:6} | mean(train_error): {:7} | mean(val_error): {}'.\n",
    "#           format(c, round(np.mean(train_errors),4), round(np.mean(validation_errors),4)))"
   ]
  },
  {
   "cell_type": "code",
   "execution_count": 39,
   "metadata": {},
   "outputs": [
    {
     "data": {
      "text/plain": [
       "SVC(C=0.1, cache_size=200, class_weight=None, coef0=0.0,\n",
       "  decision_function_shape='ovr', degree=3, gamma='auto', kernel='rbf',\n",
       "  max_iter=-1, probability=False, random_state=None, shrinking=True,\n",
       "  tol=0.001, verbose=False)"
      ]
     },
     "execution_count": 39,
     "metadata": {},
     "output_type": "execute_result"
    }
   ],
   "source": [
    "svma = SVC(C= 0.1, kernel = 'rbf')\n",
    "svma.fit(x_train, y_train)"
   ]
  },
  {
   "cell_type": "code",
   "execution_count": 40,
   "metadata": {},
   "outputs": [
    {
     "name": "stdout",
     "output_type": "stream",
     "text": [
      "0.7785663591199432\n",
      "Accuracy in training set: 0.7941072062477813\n",
      "\n",
      "[[955  86]\n",
      " [226 142]]\n",
      "\n",
      "\n",
      "             precision    recall  f1-score   support\n",
      "\n",
      "          0       0.81      0.92      0.86      1041\n",
      "          1       0.62      0.39      0.48       368\n",
      "\n",
      "avg / total       0.76      0.78      0.76      1409\n",
      "\n"
     ]
    },
    {
     "data": {
      "image/png": "[encoded data removed]",
      "text/plain": [
       "<matplotlib.figure.Figure at 0x1b8f2b446d8>"
      ]
     },
     "metadata": {},
     "output_type": "display_data"
    }
   ],
   "source": [
    "ypred_svma = svma.predict(x_test) \n",
    "# Use score method to get accuracy of model\n",
    "score_svma = svma.score(x_test, y_test)\n",
    "score_svma_training = svma.score(x_train, y_train)\n",
    "print(score_svma)\n",
    "print(\"Accuracy in training set:\", score_svma_training)\n",
    "print()\n",
    "#Confusion Matrix\n",
    "cm_svma = metrics.confusion_matrix(y_test, ypred_svma)\n",
    "print(cm_svma)\n",
    "print()\n",
    "#The confusion matrix above is not visually super informative or visually appealing.\n",
    "# Method 1 (Seaborn)\n",
    "plt.figure(figsize=(9,9))\n",
    "sns.heatmap(cm_svma, annot=True, fmt=\".3f\", linewidths=.5, square = True, cmap = 'Blues_r');\n",
    "plt.ylabel('Actual label')\n",
    "plt.xlabel('Predicted label')\n",
    "all_sample_title = 'Accuracy Score: {0}'.format(score_svma)\n",
    "plt.title(all_sample_title, size = 15)\n",
    "\n",
    "print()\n",
    "print(classification_report(y_test, ypred_svma))"
   ]
  },
  {
   "cell_type": "code",
   "execution_count": 41,
   "metadata": {},
   "outputs": [],
   "source": [
    "# X= dfonlysigni.values\n",
    "# y= df.iloc[:, 20].values\n",
    "\n",
    "# #Splitting Datasets into Training and Test\n",
    "# from sklearn.model_selection import train_test_split\n",
    "# x_train, x_test, y_train, y_test = train_test_split(X,y,test_size = 0.2, random_state = 0)"
   ]
  },
  {
   "cell_type": "code",
   "execution_count": 42,
   "metadata": {},
   "outputs": [],
   "source": [
    "# from sklearn.model_selection import KFold\n",
    "# data = x_train\n",
    "# target = y_train\n",
    "# K = 10\n",
    "# kf = KFold(n_splits=K, shuffle=True, random_state=42)\n",
    "# gs = [0.001, 0.01, 0.1, 1, 10, 100, 1000]\n",
    "# cs = [0.001, 0.01, 0.1, 1, 10, 100, 1000]\n",
    "# for g in gs:\n",
    "#     for c in cs:\n",
    "#         train_errors = []\n",
    "#         validation_errors = []\n",
    "#         for train_index, val_index in kf.split(data, target):\n",
    "#             # split data\n",
    "#             X_train, X_val = data[train_index], data[val_index]\n",
    "#             y_train, y_val = target[train_index], target[val_index]\n",
    "\n",
    "#             # instantiate model\n",
    "#             svma = SVC(C= c, gamma= g, kernel = 'rbf')\n",
    "        \n",
    "#             #calculate errors\n",
    "#             train_error, val_error = calc_metrics(X_train, y_train, X_val, y_val, svma)\n",
    "        \n",
    "#             # append to appropriate list\n",
    "#             train_errors.append(train_error)\n",
    "#             validation_errors.append(val_error)\n",
    "    \n",
    "#         # generate report\n",
    "#         print('C: {:6} | gamma: {:6} | mean(train_error): {:7} | mean(val_error): {}'.\n",
    "#         format(c, g, round(np.mean(train_errors),4), round(np.mean(validation_errors),4)))"
   ]
  },
  {
   "cell_type": "code",
   "execution_count": 43,
   "metadata": {},
   "outputs": [],
   "source": [
    "X= dfonlysigni.values\n",
    "y= df.iloc[:, 20].values\n",
    "\n",
    "#Splitting Datasets into Training and Test\n",
    "from sklearn.model_selection import train_test_split\n",
    "x_train, x_test, y_train, y_test = train_test_split(X,y,test_size = 0.2, random_state = 0)"
   ]
  },
  {
   "cell_type": "code",
   "execution_count": 44,
   "metadata": {},
   "outputs": [
    {
     "data": {
      "text/plain": [
       "SVC(C=1, cache_size=200, class_weight=None, coef0=0.0,\n",
       "  decision_function_shape='ovr', degree=3, gamma=0.01, kernel='rbf',\n",
       "  max_iter=-1, probability=False, random_state=None, shrinking=True,\n",
       "  tol=0.001, verbose=False)"
      ]
     },
     "execution_count": 44,
     "metadata": {},
     "output_type": "execute_result"
    }
   ],
   "source": [
    "svma = SVC(C= 1, gamma= 0.01, kernel = 'rbf')\n",
    "svma.fit(x_train, y_train)"
   ]
  },
  {
   "cell_type": "code",
   "execution_count": 45,
   "metadata": {},
   "outputs": [
    {
     "name": "stdout",
     "output_type": "stream",
     "text": [
      "0.7835344215755855\n",
      "Accuracy in training set: 0.7914447994320198\n",
      "\n",
      "[[936 105]\n",
      " [200 168]]\n",
      "\n",
      "\n",
      "             precision    recall  f1-score   support\n",
      "\n",
      "          0       0.82      0.90      0.86      1041\n",
      "          1       0.62      0.46      0.52       368\n",
      "\n",
      "avg / total       0.77      0.78      0.77      1409\n",
      "\n"
     ]
    },
    {
     "data": {
      "image/png": "[encoded data removed]",
      "text/plain": [
       "<matplotlib.figure.Figure at 0x1b8f2bd2d68>"
      ]
     },
     "metadata": {},
     "output_type": "display_data"
    }
   ],
   "source": [
    "ypred_svma = svma.predict(x_test) \n",
    "# Use score method to get accuracy of model\n",
    "score_svma = svma.score(x_test, y_test)\n",
    "score_svma_training = svma.score(x_train, y_train)\n",
    "print(score_svma)\n",
    "print(\"Accuracy in training set:\", score_svma_training)\n",
    "print()\n",
    "#Confusion Matrix\n",
    "cm_svma = metrics.confusion_matrix(y_test, ypred_svma)\n",
    "print(cm_svma)\n",
    "print()\n",
    "#The confusion matrix above is not visually super informative or visually appealing.\n",
    "# Method 1 (Seaborn)\n",
    "plt.figure(figsize=(9,9))\n",
    "sns.heatmap(cm_svma, annot=True, fmt=\".3f\", linewidths=.5, square = True, cmap = 'Blues_r');\n",
    "plt.ylabel('Actual label')\n",
    "plt.xlabel('Predicted label')\n",
    "all_sample_title = 'Accuracy Score: {0}'.format(score_svma)\n",
    "plt.title(all_sample_title, size = 15)\n",
    "\n",
    "print()\n",
    "print(classification_report(y_test, ypred_svma))"
   ]
  },
  {
   "cell_type": "markdown",
   "metadata": {},
   "source": [
    "# Voting Classifier - Multiple Model Ensemble"
   ]
  },
  {
   "cell_type": "code",
   "execution_count": 46,
   "metadata": {},
   "outputs": [],
   "source": [
    "lr = LogisticRegression()\n",
    "dt = DecisionTreeClassifier()\n",
    "svm = SVC(kernel='rbf')"
   ]
  },
  {
   "cell_type": "code",
   "execution_count": 47,
   "metadata": {},
   "outputs": [
    {
     "data": {
      "text/plain": [
       "VotingClassifier(estimators=[('lr', LogisticRegression(C=1.0, class_weight=None, dual=False, fit_intercept=True,\n",
       "          intercept_scaling=1, max_iter=100, multi_class='ovr', n_jobs=1,\n",
       "          penalty='l2', random_state=None, solver='liblinear', tol=0.0001,\n",
       "          verbose=0, warm_start=False)), ('dt', Decisio...,\n",
       "  max_iter=-1, probability=False, random_state=None, shrinking=True,\n",
       "  tol=0.001, verbose=False))],\n",
       "         flatten_transform=None, n_jobs=1, voting='hard', weights=None)"
      ]
     },
     "execution_count": 47,
     "metadata": {},
     "output_type": "execute_result"
    }
   ],
   "source": [
    "evc = VotingClassifier(estimators=[('lr', lr),('dt', dt),('svm', svm)], voting='hard')\n",
    "evc.fit(x_train, y_train)"
   ]
  },
  {
   "cell_type": "code",
   "execution_count": 48,
   "metadata": {},
   "outputs": [
    {
     "name": "stderr",
     "output_type": "stream",
     "text": [
      "C:\\Users\\saira_p\\Anaconda3\\lib\\site-packages\\sklearn\\preprocessing\\label.py:151: DeprecationWarning: The truth value of an empty array is ambiguous. Returning False, but in future this will result in an error. Use `array.size > 0` to check that an array is not empty.\n",
      "  if diff:\n",
      "C:\\Users\\saira_p\\Anaconda3\\lib\\site-packages\\sklearn\\preprocessing\\label.py:151: DeprecationWarning: The truth value of an empty array is ambiguous. Returning False, but in future this will result in an error. Use `array.size > 0` to check that an array is not empty.\n",
      "  if diff:\n"
     ]
    },
    {
     "name": "stdout",
     "output_type": "stream",
     "text": [
      "0.7877927608232789\n",
      "\n",
      "[[933 108]\n",
      " [191 177]]\n",
      "\n",
      "\n",
      "             precision    recall  f1-score   support\n",
      "\n",
      "          0       0.83      0.90      0.86      1041\n",
      "          1       0.62      0.48      0.54       368\n",
      "\n",
      "avg / total       0.78      0.79      0.78      1409\n",
      "\n"
     ]
    },
    {
     "data": {
      "image/png": "[encoded data removed]",
      "text/plain": [
       "<matplotlib.figure.Figure at 0x1b8f8bca668>"
      ]
     },
     "metadata": {},
     "output_type": "display_data"
    }
   ],
   "source": [
    "ypred_evc = evc.predict(x_test) \n",
    "# Use score method to get accuracy of model\n",
    "score_evc = evc.score(x_test, y_test)\n",
    "print(score_evc)\n",
    "print()\n",
    "#Confusion Matrix\n",
    "cm_evc = metrics.confusion_matrix(y_test, ypred_evc)\n",
    "print(cm_evc)\n",
    "print()\n",
    "#The confusion matrix above is not visually super informative or visually appealing.\n",
    "# Method 1 (Seaborn)\n",
    "plt.figure(figsize=(9,9))\n",
    "sns.heatmap(cm_evc, annot=True, fmt=\".3f\", linewidths=.5, square = True, cmap = 'Blues_r');\n",
    "plt.ylabel('Actual label');\n",
    "plt.xlabel('Predicted label');\n",
    "all_sample_title = 'Accuracy Score: {0}'.format(score_evc)\n",
    "plt.title(all_sample_title, size = 15)\n",
    "\n",
    "print()\n",
    "print(classification_report(y_test, ypred_evc))"
   ]
  },
  {
   "cell_type": "code",
   "execution_count": 49,
   "metadata": {},
   "outputs": [
    {
     "name": "stderr",
     "output_type": "stream",
     "text": [
      "C:\\Users\\saira_p\\Anaconda3\\lib\\site-packages\\sklearn\\preprocessing\\label.py:151: DeprecationWarning: The truth value of an empty array is ambiguous. Returning False, but in future this will result in an error. Use `array.size > 0` to check that an array is not empty.\n",
      "  if diff:\n"
     ]
    },
    {
     "data": {
      "text/plain": [
       "0.8146964856230032"
      ]
     },
     "execution_count": 49,
     "metadata": {},
     "output_type": "execute_result"
    }
   ],
   "source": [
    "evc.score(x_train, y_train)"
   ]
  },
  {
   "cell_type": "code",
   "execution_count": null,
   "metadata": {},
   "outputs": [],
   "source": []
  }
 ],
 "metadata": {
  "kernelspec": {
   "display_name": "Python 3",
   "language": "python",
   "name": "python3"
  },
  "language_info": {
   "codemirror_mode": {
    "name": "ipython",
    "version": 3
   },
   "file_extension": ".py",
   "mimetype": "text/x-python",
   "name": "python",
   "nbconvert_exporter": "python",
   "pygments_lexer": "ipython3",
   "version": "3.6.4"
  }
 },
 "nbformat": 4,
 "nbformat_minor": 2
}
